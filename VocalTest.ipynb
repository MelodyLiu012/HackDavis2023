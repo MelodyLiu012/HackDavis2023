{
  "nbformat": 4,
  "nbformat_minor": 0,
  "metadata": {
    "colab": {
      "provenance": []
    },
    "kernelspec": {
      "name": "python3",
      "display_name": "Python 3"
    },
    "language_info": {
      "name": "python"
    }
  },
  "cells": [
    {
      "cell_type": "code",
      "source": [
        "import parselmouth\n",
        "from parselmouth.praat import call\n",
        "import numpy as np\n",
        "import tensorflow as tf\n",
        "import pandas as pd \n",
        "from sklearn.model_selection import train_test_split\n",
        "from sklearn.preprocessing import StandardScaler"
      ],
      "metadata": {
        "id": "OL7BUq8IeH1R"
      },
      "execution_count": 1,
      "outputs": []
    },
    {
      "cell_type": "code",
      "source": [
        "df = pd.read_csv('/content/drive/MyDrive/PDData.csv')"
      ],
      "metadata": {
        "id": "zSahOGPmeEH7"
      },
      "execution_count": 2,
      "outputs": []
    },
    {
      "cell_type": "code",
      "source": [
        "df = df.drop('Unnamed: 0', axis = 1)"
      ],
      "metadata": {
        "id": "jc18QMOwpNsD"
      },
      "execution_count": 3,
      "outputs": []
    },
    {
      "cell_type": "code",
      "source": [
        "X = df.drop('status',axis=1)\n",
        "y = df['status']"
      ],
      "metadata": {
        "id": "_C900AfXpYiB"
      },
      "execution_count": 4,
      "outputs": []
    },
    {
      "cell_type": "code",
      "source": [
        "scale = StandardScaler()\n",
        "X = scale.fit_transform(X)\n",
        "y = y\n"
      ],
      "metadata": {
        "id": "k6KuIgU4qoJD"
      },
      "execution_count": 5,
      "outputs": []
    },
    {
      "cell_type": "code",
      "source": [
        "X_train,X_test, y_train, y_test = train_test_split(X, y, test_size = 0.2, random_state = 42)"
      ],
      "metadata": {
        "id": "cMUI0wvopgxd"
      },
      "execution_count": 6,
      "outputs": []
    },
    {
      "cell_type": "code",
      "source": [
        "model = tf.keras.Sequential()\n",
        "model.add(tf.keras.layers.Dense(64, activation='relu', input_shape=(X_train.shape[1],)))\n",
        "model.add(tf.keras.layers.Dense(64, activation='relu'))\n",
        "model.add(tf.keras.layers.Dense(1, activation='sigmoid'))\n",
        "model.add(tf.keras.layers.Dense(1, activation='sigmoid', kernel_regularizer=tf.keras.regularizers.l2(0.01)))"
      ],
      "metadata": {
        "id": "wEUg4Wq2qDcW"
      },
      "execution_count": 7,
      "outputs": []
    },
    {
      "cell_type": "code",
      "source": [
        "model.compile(optimizer='adam', loss='binary_crossentropy', metrics=['accuracy'])"
      ],
      "metadata": {
        "id": "KiC-q60druCv"
      },
      "execution_count": 8,
      "outputs": []
    },
    {
      "cell_type": "code",
      "source": [
        "model.fit(X_train, y_train, epochs=100, batch_size=8)"
      ],
      "metadata": {
        "colab": {
          "base_uri": "https://localhost:8080/"
        },
        "id": "tCMx9U-wqXJT",
        "outputId": "82a1b82e-14ee-4125-97bb-3b6f74cc540c"
      },
      "execution_count": 9,
      "outputs": [
        {
          "output_type": "stream",
          "name": "stdout",
          "text": [
            "Epoch 1/100\n",
            "20/20 [==============================] - 2s 3ms/step - loss: 0.7289 - accuracy: 0.2628\n",
            "Epoch 2/100\n",
            "20/20 [==============================] - 0s 6ms/step - loss: 0.7078 - accuracy: 0.3141\n",
            "Epoch 3/100\n",
            "20/20 [==============================] - 0s 4ms/step - loss: 0.6942 - accuracy: 0.4744\n",
            "Epoch 4/100\n",
            "20/20 [==============================] - 0s 6ms/step - loss: 0.6848 - accuracy: 0.6795\n",
            "Epoch 5/100\n",
            "20/20 [==============================] - 0s 4ms/step - loss: 0.6768 - accuracy: 0.7949\n",
            "Epoch 6/100\n",
            "20/20 [==============================] - 0s 6ms/step - loss: 0.6695 - accuracy: 0.8141\n",
            "Epoch 7/100\n",
            "20/20 [==============================] - 0s 5ms/step - loss: 0.6642 - accuracy: 0.8269\n",
            "Epoch 8/100\n",
            "20/20 [==============================] - 0s 4ms/step - loss: 0.6591 - accuracy: 0.8462\n",
            "Epoch 9/100\n",
            "20/20 [==============================] - 0s 6ms/step - loss: 0.6542 - accuracy: 0.8526\n",
            "Epoch 10/100\n",
            "20/20 [==============================] - 0s 5ms/step - loss: 0.6502 - accuracy: 0.8397\n",
            "Epoch 11/100\n",
            "20/20 [==============================] - 0s 7ms/step - loss: 0.6459 - accuracy: 0.8526\n",
            "Epoch 12/100\n",
            "20/20 [==============================] - 0s 5ms/step - loss: 0.6415 - accuracy: 0.8526\n",
            "Epoch 13/100\n",
            "20/20 [==============================] - 0s 4ms/step - loss: 0.6379 - accuracy: 0.8397\n",
            "Epoch 14/100\n",
            "20/20 [==============================] - 0s 5ms/step - loss: 0.6343 - accuracy: 0.8526\n",
            "Epoch 15/100\n",
            "20/20 [==============================] - 0s 8ms/step - loss: 0.6304 - accuracy: 0.8462\n",
            "Epoch 16/100\n",
            "20/20 [==============================] - 0s 8ms/step - loss: 0.6265 - accuracy: 0.8526\n",
            "Epoch 17/100\n",
            "20/20 [==============================] - 0s 6ms/step - loss: 0.6232 - accuracy: 0.8590\n",
            "Epoch 18/100\n",
            "20/20 [==============================] - 0s 5ms/step - loss: 0.6194 - accuracy: 0.8654\n",
            "Epoch 19/100\n",
            "20/20 [==============================] - 0s 4ms/step - loss: 0.6165 - accuracy: 0.8654\n",
            "Epoch 20/100\n",
            "20/20 [==============================] - 0s 6ms/step - loss: 0.6128 - accuracy: 0.8590\n",
            "Epoch 21/100\n",
            "20/20 [==============================] - 0s 7ms/step - loss: 0.6093 - accuracy: 0.8654\n",
            "Epoch 22/100\n",
            "20/20 [==============================] - 0s 6ms/step - loss: 0.6059 - accuracy: 0.8718\n",
            "Epoch 23/100\n",
            "20/20 [==============================] - 0s 6ms/step - loss: 0.6026 - accuracy: 0.8718\n",
            "Epoch 24/100\n",
            "20/20 [==============================] - 0s 7ms/step - loss: 0.5994 - accuracy: 0.8718\n",
            "Epoch 25/100\n",
            "20/20 [==============================] - 0s 6ms/step - loss: 0.5965 - accuracy: 0.8718\n",
            "Epoch 26/100\n",
            "20/20 [==============================] - 0s 8ms/step - loss: 0.5933 - accuracy: 0.8718\n",
            "Epoch 27/100\n",
            "20/20 [==============================] - 0s 7ms/step - loss: 0.5904 - accuracy: 0.8718\n",
            "Epoch 28/100\n",
            "20/20 [==============================] - 0s 8ms/step - loss: 0.5875 - accuracy: 0.8718\n",
            "Epoch 29/100\n",
            "20/20 [==============================] - 0s 7ms/step - loss: 0.5844 - accuracy: 0.8718\n",
            "Epoch 30/100\n",
            "20/20 [==============================] - 0s 4ms/step - loss: 0.5828 - accuracy: 0.8590\n",
            "Epoch 31/100\n",
            "20/20 [==============================] - 0s 5ms/step - loss: 0.5826 - accuracy: 0.8590\n",
            "Epoch 32/100\n",
            "20/20 [==============================] - 0s 6ms/step - loss: 0.5764 - accuracy: 0.8718\n",
            "Epoch 33/100\n",
            "20/20 [==============================] - 0s 5ms/step - loss: 0.5739 - accuracy: 0.8654\n",
            "Epoch 34/100\n",
            "20/20 [==============================] - 0s 6ms/step - loss: 0.5717 - accuracy: 0.8718\n",
            "Epoch 35/100\n",
            "20/20 [==============================] - 0s 6ms/step - loss: 0.5684 - accuracy: 0.8782\n",
            "Epoch 36/100\n",
            "20/20 [==============================] - 0s 9ms/step - loss: 0.5658 - accuracy: 0.8782\n",
            "Epoch 37/100\n",
            "20/20 [==============================] - 0s 8ms/step - loss: 0.5635 - accuracy: 0.8718\n",
            "Epoch 38/100\n",
            "20/20 [==============================] - 0s 7ms/step - loss: 0.5611 - accuracy: 0.8782\n",
            "Epoch 39/100\n",
            "20/20 [==============================] - 0s 7ms/step - loss: 0.5590 - accuracy: 0.8718\n",
            "Epoch 40/100\n",
            "20/20 [==============================] - 0s 5ms/step - loss: 0.5568 - accuracy: 0.8718\n",
            "Epoch 41/100\n",
            "20/20 [==============================] - 0s 6ms/step - loss: 0.5542 - accuracy: 0.8782\n",
            "Epoch 42/100\n",
            "20/20 [==============================] - 0s 4ms/step - loss: 0.5525 - accuracy: 0.8782\n",
            "Epoch 43/100\n",
            "20/20 [==============================] - 0s 6ms/step - loss: 0.5503 - accuracy: 0.8718\n",
            "Epoch 44/100\n",
            "20/20 [==============================] - 0s 6ms/step - loss: 0.5478 - accuracy: 0.8782\n",
            "Epoch 45/100\n",
            "20/20 [==============================] - 0s 8ms/step - loss: 0.5456 - accuracy: 0.8718\n",
            "Epoch 46/100\n",
            "20/20 [==============================] - 0s 15ms/step - loss: 0.5442 - accuracy: 0.8782\n",
            "Epoch 47/100\n",
            "20/20 [==============================] - 0s 9ms/step - loss: 0.5428 - accuracy: 0.8718\n",
            "Epoch 48/100\n",
            "20/20 [==============================] - 0s 7ms/step - loss: 0.5404 - accuracy: 0.8782\n",
            "Epoch 49/100\n",
            "20/20 [==============================] - 0s 7ms/step - loss: 0.5375 - accuracy: 0.8846\n",
            "Epoch 50/100\n",
            "20/20 [==============================] - 0s 3ms/step - loss: 0.5360 - accuracy: 0.8782\n",
            "Epoch 51/100\n",
            "20/20 [==============================] - 0s 4ms/step - loss: 0.5337 - accuracy: 0.8782\n",
            "Epoch 52/100\n",
            "20/20 [==============================] - 0s 5ms/step - loss: 0.5321 - accuracy: 0.8846\n",
            "Epoch 53/100\n",
            "20/20 [==============================] - 0s 7ms/step - loss: 0.5303 - accuracy: 0.8782\n",
            "Epoch 54/100\n",
            "20/20 [==============================] - 0s 5ms/step - loss: 0.5283 - accuracy: 0.8846\n",
            "Epoch 55/100\n",
            "20/20 [==============================] - 0s 6ms/step - loss: 0.5268 - accuracy: 0.8846\n",
            "Epoch 56/100\n",
            "20/20 [==============================] - 0s 5ms/step - loss: 0.5246 - accuracy: 0.8846\n",
            "Epoch 57/100\n",
            "20/20 [==============================] - 0s 4ms/step - loss: 0.5232 - accuracy: 0.8846\n",
            "Epoch 58/100\n",
            "20/20 [==============================] - 0s 4ms/step - loss: 0.5224 - accuracy: 0.8782\n",
            "Epoch 59/100\n",
            "20/20 [==============================] - 0s 4ms/step - loss: 0.5207 - accuracy: 0.8846\n",
            "Epoch 60/100\n",
            "20/20 [==============================] - 0s 4ms/step - loss: 0.5184 - accuracy: 0.8846\n",
            "Epoch 61/100\n",
            "20/20 [==============================] - 0s 4ms/step - loss: 0.5167 - accuracy: 0.8846\n",
            "Epoch 62/100\n",
            "20/20 [==============================] - 0s 4ms/step - loss: 0.5151 - accuracy: 0.8846\n",
            "Epoch 63/100\n",
            "20/20 [==============================] - 0s 4ms/step - loss: 0.5138 - accuracy: 0.8846\n",
            "Epoch 64/100\n",
            "20/20 [==============================] - 0s 4ms/step - loss: 0.5126 - accuracy: 0.8846\n",
            "Epoch 65/100\n",
            "20/20 [==============================] - 0s 3ms/step - loss: 0.5113 - accuracy: 0.8846\n",
            "Epoch 66/100\n",
            "20/20 [==============================] - 0s 4ms/step - loss: 0.5100 - accuracy: 0.8846\n",
            "Epoch 67/100\n",
            "20/20 [==============================] - 0s 3ms/step - loss: 0.5083 - accuracy: 0.8846\n",
            "Epoch 68/100\n",
            "20/20 [==============================] - 0s 3ms/step - loss: 0.5071 - accuracy: 0.8846\n",
            "Epoch 69/100\n",
            "20/20 [==============================] - 0s 5ms/step - loss: 0.5063 - accuracy: 0.8846\n",
            "Epoch 70/100\n",
            "20/20 [==============================] - 0s 4ms/step - loss: 0.5050 - accuracy: 0.8846\n",
            "Epoch 71/100\n",
            "20/20 [==============================] - 0s 6ms/step - loss: 0.5034 - accuracy: 0.8846\n",
            "Epoch 72/100\n",
            "20/20 [==============================] - 0s 7ms/step - loss: 0.5022 - accuracy: 0.8846\n",
            "Epoch 73/100\n",
            "20/20 [==============================] - 0s 4ms/step - loss: 0.5011 - accuracy: 0.8846\n",
            "Epoch 74/100\n",
            "20/20 [==============================] - 0s 2ms/step - loss: 0.5001 - accuracy: 0.8846\n",
            "Epoch 75/100\n",
            "20/20 [==============================] - 0s 3ms/step - loss: 0.4989 - accuracy: 0.8846\n",
            "Epoch 76/100\n",
            "20/20 [==============================] - 0s 2ms/step - loss: 0.4979 - accuracy: 0.8846\n",
            "Epoch 77/100\n",
            "20/20 [==============================] - 0s 3ms/step - loss: 0.4969 - accuracy: 0.8846\n",
            "Epoch 78/100\n",
            "20/20 [==============================] - 0s 3ms/step - loss: 0.4957 - accuracy: 0.8846\n",
            "Epoch 79/100\n",
            "20/20 [==============================] - 0s 3ms/step - loss: 0.4948 - accuracy: 0.8846\n",
            "Epoch 80/100\n",
            "20/20 [==============================] - 0s 3ms/step - loss: 0.4938 - accuracy: 0.8846\n",
            "Epoch 81/100\n",
            "20/20 [==============================] - 0s 4ms/step - loss: 0.4929 - accuracy: 0.8846\n",
            "Epoch 82/100\n",
            "20/20 [==============================] - 0s 4ms/step - loss: 0.4919 - accuracy: 0.8846\n",
            "Epoch 83/100\n",
            "20/20 [==============================] - 0s 3ms/step - loss: 0.4909 - accuracy: 0.8846\n",
            "Epoch 84/100\n",
            "20/20 [==============================] - 0s 4ms/step - loss: 0.4900 - accuracy: 0.8846\n",
            "Epoch 85/100\n",
            "20/20 [==============================] - 0s 4ms/step - loss: 0.4892 - accuracy: 0.8846\n",
            "Epoch 86/100\n",
            "20/20 [==============================] - 0s 3ms/step - loss: 0.4882 - accuracy: 0.8846\n",
            "Epoch 87/100\n",
            "20/20 [==============================] - 0s 4ms/step - loss: 0.4874 - accuracy: 0.8846\n",
            "Epoch 88/100\n",
            "20/20 [==============================] - 0s 4ms/step - loss: 0.4867 - accuracy: 0.8846\n",
            "Epoch 89/100\n",
            "20/20 [==============================] - 0s 4ms/step - loss: 0.4858 - accuracy: 0.8846\n",
            "Epoch 90/100\n",
            "20/20 [==============================] - 0s 5ms/step - loss: 0.4850 - accuracy: 0.8846\n",
            "Epoch 91/100\n",
            "20/20 [==============================] - 0s 7ms/step - loss: 0.4841 - accuracy: 0.8846\n",
            "Epoch 92/100\n",
            "20/20 [==============================] - 0s 3ms/step - loss: 0.4833 - accuracy: 0.8846\n",
            "Epoch 93/100\n",
            "20/20 [==============================] - 0s 5ms/step - loss: 0.4824 - accuracy: 0.8846\n",
            "Epoch 94/100\n",
            "20/20 [==============================] - 0s 8ms/step - loss: 0.4819 - accuracy: 0.8846\n",
            "Epoch 95/100\n",
            "20/20 [==============================] - 0s 8ms/step - loss: 0.4811 - accuracy: 0.8846\n",
            "Epoch 96/100\n",
            "20/20 [==============================] - 0s 5ms/step - loss: 0.4797 - accuracy: 0.8910\n",
            "Epoch 97/100\n",
            "20/20 [==============================] - 0s 3ms/step - loss: 0.4790 - accuracy: 0.8910\n",
            "Epoch 98/100\n",
            "20/20 [==============================] - 0s 4ms/step - loss: 0.4768 - accuracy: 0.8910\n",
            "Epoch 99/100\n",
            "20/20 [==============================] - 0s 4ms/step - loss: 0.4763 - accuracy: 0.8910\n",
            "Epoch 100/100\n",
            "20/20 [==============================] - 0s 3ms/step - loss: 0.4752 - accuracy: 0.8910\n"
          ]
        },
        {
          "output_type": "execute_result",
          "data": {
            "text/plain": [
              "<keras.callbacks.History at 0x7f456835d8a0>"
            ]
          },
          "metadata": {},
          "execution_count": 9
        }
      ]
    },
    {
      "cell_type": "code",
      "source": [
        "loss, accuracy = model.evaluate(X_test, y_test)\n",
        "print('Loss:', loss)\n",
        "print('Accuracy:', accuracy)"
      ],
      "metadata": {
        "colab": {
          "base_uri": "https://localhost:8080/"
        },
        "id": "YqpxcQClrBxa",
        "outputId": "21c12db9-020b-4916-f671-293195db278b"
      },
      "execution_count": 10,
      "outputs": [
        {
          "output_type": "stream",
          "name": "stdout",
          "text": [
            "2/2 [==============================] - 0s 9ms/step - loss: 0.4700 - accuracy: 0.8974\n",
            "Loss: 0.4699670970439911\n",
            "Accuracy: 0.8974359035491943\n"
          ]
        }
      ]
    },
    {
      "cell_type": "code",
      "source": [
        "def measurePitch(voiceID, f0min, f0max, unit):\n",
        "    sound = parselmouth.Sound(voiceID) # read the sound\n",
        "    pitch = call(sound, \"To Pitch\", 0.0, f0min, f0max) #create a praat pitch object\n",
        "    meanF0 = call(pitch, \"Get mean\", 0, 0, unit) # get mean pitch\n",
        "    harmonicity = call(sound, \"To Harmonicity (cc)\", 0.01, 75, 0.1, 1.0)\n",
        "    hnr = call(harmonicity, \"Get mean\", 0, 0)\n",
        "    pointProcess = call(sound, \"To PointProcess (periodic, cc)\", f0min, f0max)\n",
        "    localJitter = call(pointProcess, \"Get jitter (local)\", 0, 0, 0.0001, 0.02, 1.3)\n",
        "    localabsoluteJitter = call(pointProcess, \"Get jitter (local, absolute)\", 0, 0, 0.0001, 0.02, 1.3)\n",
        "    rapJitter = call(pointProcess, \"Get jitter (rap)\", 0, 0, 0.0001, 0.02, 1.3)\n",
        "    ppq5Jitter = call(pointProcess, \"Get jitter (ppq5)\", 0, 0, 0.0001, 0.02, 1.3)\n",
        "    ddpJitter = call(pointProcess, \"Get jitter (ddp)\", 0, 0, 0.0001, 0.02, 1.3)\n",
        "    localShimmer =  call([sound, pointProcess], \"Get shimmer (local)\", 0, 0, 0.0001, 0.02, 1.3, 1.6)\n",
        "    localdbShimmer = call([sound, pointProcess], \"Get shimmer (local_dB)\", 0, 0, 0.0001, 0.02, 1.3, 1.6)\n",
        "    apq3Shimmer = call([sound, pointProcess], \"Get shimmer (apq3)\", 0, 0, 0.0001, 0.02, 1.3, 1.6)\n",
        "    aqpq5Shimmer = call([sound, pointProcess], \"Get shimmer (apq5)\", 0, 0, 0.0001, 0.02, 1.3, 1.6)\n",
        "    apq11Shimmer =  call([sound, pointProcess], \"Get shimmer (apq11)\", 0, 0, 0.0001, 0.02, 1.3, 1.6)\n",
        "    ddaShimmer = call([sound, pointProcess], \"Get shimmer (dda)\", 0, 0, 0.0001, 0.02, 1.3, 1.6)\n",
        "    \n",
        "\n",
        "    return meanF0, rapJitter , localabsoluteJitter, ppq5Jitter, ddpJitter, localdbShimmer, apq3Shimmer, aqpq5Shimmer, ddaShimmer, hnr"
      ],
      "metadata": {
        "id": "9Vp9cmXba31g"
      },
      "execution_count": 11,
      "outputs": []
    },
    {
      "cell_type": "code",
      "source": [
        "wave_file = r'/content/drive/MyDrive/New_Recording_8.wav'\n",
        "sound = parselmouth.Sound(wave_file)\n",
        "(meanF0, rapJitter, localabsoluteJitter, ppq5Jitter, ddpJitter, localdbShimmer, apq3Shimmer, aqpq5Shimmer, ddaShimmer, hnr) = measurePitch(sound, 75, 500, \"Hertz\")\n"
      ],
      "metadata": {
        "id": "AGnu_qCia6Rm"
      },
      "execution_count": 12,
      "outputs": []
    },
    {
      "cell_type": "code",
      "source": [
        "test_sound_m = [meanF0, rapJitter, localabsoluteJitter, ppq5Jitter, ddpJitter, localdbShimmer, apq3Shimmer, aqpq5Shimmer, ddaShimmer, hnr]"
      ],
      "metadata": {
        "id": "9VyOFo8pa8FK"
      },
      "execution_count": 13,
      "outputs": []
    },
    {
      "cell_type": "code",
      "source": [
        "model.predict(np.array(test_sound_m).reshape(1,-1))"
      ],
      "metadata": {
        "colab": {
          "base_uri": "https://localhost:8080/"
        },
        "id": "oJiw26NcbELF",
        "outputId": "c63e7ddd-a9ca-4fd2-f645-d13473f90f98"
      },
      "execution_count": 14,
      "outputs": [
        {
          "output_type": "stream",
          "name": "stdout",
          "text": [
            "1/1 [==============================] - 0s 149ms/step\n"
          ]
        },
        {
          "output_type": "execute_result",
          "data": {
            "text/plain": [
              "array([[0.42670012]], dtype=float32)"
            ]
          },
          "metadata": {},
          "execution_count": 14
        }
      ]
    },
    {
      "cell_type": "code",
      "source": [
        "model.save('VocalModel.h5')"
      ],
      "metadata": {
        "id": "mw7keocVsN04"
      },
      "execution_count": 15,
      "outputs": []
    }
  ]
}